{
 "cells": [
  {
   "cell_type": "markdown",
   "metadata": {},
   "source": [
    "# Final Model\n",
    "## Project 2 - Predicting Kings County Housing Prices with Linear Regression\n",
    "Flatiron Data Science Program<br>Khyatee Desai<br>October 23, 2020"
   ]
  },
  {
   "cell_type": "markdown",
   "metadata": {},
   "source": [
    "### Read in Data"
   ]
  },
  {
   "cell_type": "code",
   "execution_count": 32,
   "metadata": {},
   "outputs": [],
   "source": [
    "import pandas as pd\n",
    "import numpy as np\n",
    "from geopy import distance\n",
    "from geopy import Point\n",
    "from itertools import combinations\n",
    "import statistics as stats\n",
    "import scipy.stats\n",
    "import statsmodels.api as sm\n",
    "from statsmodels.formula.api import ols\n",
    "import sklearn\n",
    "from sklearn.feature_selection import RFECV\n",
    "from sklearn.metrics import mean_squared_error\n",
    "from sklearn.linear_model import LinearRegression\n",
    "from sklearn.model_selection import train_test_split\n",
    "from sklearn.feature_selection import SelectKBest, f_regression\n",
    "from statsmodels.stats.outliers_influence import variance_inflation_factor\n",
    "import pickle\n",
    "import warnings\n",
    "warnings.filterwarnings('ignore')"
   ]
  },
  {
   "cell_type": "code",
   "execution_count": 33,
   "metadata": {},
   "outputs": [],
   "source": [
    "df = pd.read_csv('kc_house_data_train.csv')"
   ]
  },
  {
   "cell_type": "markdown",
   "metadata": {},
   "source": [
    "## Data Cleaning & Handling Outliers"
   ]
  },
  {
   "cell_type": "code",
   "execution_count": 34,
   "metadata": {},
   "outputs": [],
   "source": [
    "### Change date strings to datetime, drop first two columns because the aren't relevant\n",
    "df['yr_sold'] = pd.to_datetime(df['date'].str.slice(0,8), format='%Y%m%d', errors='ignore').dt.year\n",
    "df.drop(columns=['Unnamed: 0', 'id','date'],axis=1,inplace=True)"
   ]
  },
  {
   "cell_type": "code",
   "execution_count": 35,
   "metadata": {},
   "outputs": [],
   "source": [
    "### Impute Outliers\n",
    "for feat in ['bedrooms', 'bathrooms', 'sqft_living', 'sqft_lot', 'floors',  'sqft_above', 'sqft_basement','sqft_living15', 'sqft_lot15']: \n",
    "    above_6std = df[feat].mean()+(6*df[feat].std())\n",
    "    # if outliers are above 6 standard devs, reduce to 6 standard devs from mean\n",
    "    df[feat] = np.where(df[feat].values >above_6std, df[feat].mean()+6*df[feat].std(), df[feat])"
   ]
  },
  {
   "cell_type": "markdown",
   "metadata": {},
   "source": [
    "# Feature Engineering\n"
   ]
  },
  {
   "cell_type": "code",
   "execution_count": 36,
   "metadata": {
    "scrolled": false
   },
   "outputs": [],
   "source": [
    "# Create dummy variables for zip code \n",
    "zip_dummies = pd.get_dummies(df['zipcode'].astype(str), dtype=int, drop_first=True)\n",
    "df.drop(columns=['zipcode'],inplace=True)\n",
    "new_cols = 'zip'+zip_dummies.columns\n",
    "zip_dummies.columns = new_cols"
   ]
  },
  {
   "cell_type": "code",
   "execution_count": 37,
   "metadata": {},
   "outputs": [],
   "source": [
    "# Create yrs_old feature\n",
    "yrs_old = df['yr_sold']- df['yr_built']"
   ]
  },
  {
   "cell_type": "code",
   "execution_count": 38,
   "metadata": {},
   "outputs": [],
   "source": [
    "# Distance (miles) from each house to Pikes Place Market (essentially downtown seattle)\n",
    "distances=[]\n",
    "for (lat, long) in list(zip(df['lat'],df[\"long\"])):\n",
    "    p1 = Point(f'{lat} {long}')\n",
    "    pikes_place = Point(\"47.6086 -122.3401\")\n",
    "    distances.append(distance.distance(p1,pikes_place).miles)"
   ]
  },
  {
   "cell_type": "code",
   "execution_count": 39,
   "metadata": {},
   "outputs": [],
   "source": [
    "# add new features to dataframe\n",
    "new_features = pd.DataFrame()\n",
    "new_features['yrs_old'] = yrs_old\n",
    "new_features['miles_from_city'] = distances"
   ]
  },
  {
   "cell_type": "markdown",
   "metadata": {},
   "source": [
    "### Interaction Features"
   ]
  },
  {
   "cell_type": "code",
   "execution_count": 40,
   "metadata": {},
   "outputs": [],
   "source": [
    "# Generate combinations of features\n",
    "y = df[['price']]\n",
    "X = df.iloc[:,1:]\n",
    "interactions = list(combinations(X.columns, 2))\n",
    "interaction_dict = {}\n",
    "for interaction in interactions:\n",
    "    X_copy = X.copy()\n",
    "    X_copy['interact'] = X_copy[interaction[0]] * X_copy[interaction[1]]  \n",
    "    model = LinearRegression() #run model with each possible interaction\n",
    "    model.fit(X_copy, y)\n",
    "    interaction_dict[model.score(X_copy, y)] = interaction # add R-squared for each interaction to a dictionary"
   ]
  },
  {
   "cell_type": "code",
   "execution_count": 41,
   "metadata": {},
   "outputs": [],
   "source": [
    "# Add best 60 interactions to model\n",
    "top_interactions = sorted(interaction_dict.keys(), reverse = True)[:60]\n",
    "for interaction in top_interactions:\n",
    "    feature1 = interaction_dict[interaction][0]\n",
    "    feature2 = interaction_dict[interaction][1]\n",
    "    new_features[feature1+'_X_'+feature2] = X[feature1] * X[feature2] #also add to new_features df"
   ]
  },
  {
   "cell_type": "markdown",
   "metadata": {},
   "source": [
    "### Log Transformations"
   ]
  },
  {
   "cell_type": "code",
   "execution_count": 42,
   "metadata": {},
   "outputs": [],
   "source": [
    "# generate new features for logs of non-normal features (based on histograms)\n",
    "non_normal = ['bedrooms', 'bathrooms', 'sqft_living', 'sqft_lot', 'floors', 'condition', 'grade', 'sqft_above', 'sqft_basement','sqft_living15', 'sqft_lot15']\n",
    "for feat in non_normal:\n",
    "    new_features['log_'+feat] = df[feat].map(lambda x: np.log(x))\n",
    "new_features = new_features.replace([np.inf, -np.inf], 0)"
   ]
  },
  {
   "cell_type": "markdown",
   "metadata": {},
   "source": [
    "### Polynomial Features¶"
   ]
  },
  {
   "cell_type": "code",
   "execution_count": 43,
   "metadata": {
    "scrolled": true
   },
   "outputs": [],
   "source": [
    "non_normal = ['bedrooms', 'bathrooms', 'sqft_living', 'sqft_lot', 'floors', 'condition', 'grade', 'sqft_above', 'sqft_living15', 'sqft_lot15']\n",
    "for feat in non_normal:\n",
    "    new_features[feat+'^2'] = df[feat]**2\n",
    "    new_features[feat+'^3'] = df[feat]**3"
   ]
  },
  {
   "cell_type": "markdown",
   "metadata": {},
   "source": [
    "# Feature Selection\n"
   ]
  },
  {
   "cell_type": "markdown",
   "metadata": {},
   "source": [
    "### Recursive Feature Elimination"
   ]
  },
  {
   "cell_type": "code",
   "execution_count": 44,
   "metadata": {},
   "outputs": [],
   "source": [
    "X_all = pd.concat([df.iloc[:,1:], zip_dummies, new_features], axis=1)\n",
    "ols = LinearRegression()\n",
    "selector = RFECV(estimator=ols, step=1, cv=5, scoring='neg_mean_squared_error', n_jobs=-1)\n",
    "selector.fit(X_all, y)\n",
    "rfe_features = X_all.columns[selector.support_]"
   ]
  },
  {
   "cell_type": "code",
   "execution_count": 45,
   "metadata": {},
   "outputs": [
    {
     "name": "stdout",
     "output_type": "stream",
     "text": [
      "r-squared:  0.8813219725128786\n",
      "rmse:  128603.46478124417\n"
     ]
    }
   ],
   "source": [
    "model_final = LinearRegression()\n",
    "model_final.fit(X_all[rfe_features], y)\n",
    "print('r-squared: ',model_final.score(X_all[rfe_features], y))\n",
    "y_pred = model_final.predict(X_all[rfe_features])\n",
    "print('rmse: ',np.sqrt(mean_squared_error(y, y_pred)))"
   ]
  },
  {
   "cell_type": "markdown",
   "metadata": {},
   "source": [
    "# Save final model"
   ]
  },
  {
   "cell_type": "code",
   "execution_count": 46,
   "metadata": {},
   "outputs": [],
   "source": [
    "pickle_out = open(\"model.pickle\",\"wb\")\n",
    "pickle.dump(model_final, pickle_out)\n",
    "pickle_out.close()"
   ]
  },
  {
   "cell_type": "code",
   "execution_count": null,
   "metadata": {},
   "outputs": [],
   "source": []
  }
 ],
 "metadata": {
  "kernelspec": {
   "display_name": "Python 3",
   "language": "python",
   "name": "python3"
  },
  "language_info": {
   "codemirror_mode": {
    "name": "ipython",
    "version": 3
   },
   "file_extension": ".py",
   "mimetype": "text/x-python",
   "name": "python",
   "nbconvert_exporter": "python",
   "pygments_lexer": "ipython3",
   "version": "3.6.9"
  }
 },
 "nbformat": 4,
 "nbformat_minor": 2
}
