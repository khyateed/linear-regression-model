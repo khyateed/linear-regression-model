{
 "cells": [
  {
   "cell_type": "markdown",
   "metadata": {},
   "source": [
    "# Holdout Predictions\n",
    "## Project 2 - Predicting Kings County Housing Prices with Linear Regression<br>Flatiron Data Science Program\n",
    "Khyatee Desai<br>October 23, 2020"
   ]
  },
  {
   "cell_type": "code",
   "execution_count": 52,
   "metadata": {},
   "outputs": [],
   "source": [
    "import pandas as pd\n",
    "import numpy as np\n",
    "from geopy import distance\n",
    "from geopy import Point\n",
    "from itertools import combinations\n",
    "import statistics as stats\n",
    "import scipy.stats\n",
    "import statsmodels.api as sm\n",
    "from statsmodels.formula.api import ols\n",
    "import sklearn\n",
    "from sklearn.feature_selection import RFECV\n",
    "from sklearn.metrics import mean_squared_error\n",
    "from sklearn.linear_model import LinearRegression\n",
    "from sklearn.model_selection import train_test_split\n",
    "from sklearn.feature_selection import SelectKBest, f_regression\n",
    "from statsmodels.stats.outliers_influence import variance_inflation_factor\n",
    "import pickle\n",
    "import warnings\n",
    "warnings.filterwarnings('ignore')"
   ]
  },
  {
   "cell_type": "markdown",
   "metadata": {},
   "source": [
    "## Step 1: Read in hold out data and best model"
   ]
  },
  {
   "cell_type": "code",
   "execution_count": 53,
   "metadata": {},
   "outputs": [],
   "source": [
    "df = pd.read_csv('kc_house_data_test_features.csv')"
   ]
  },
  {
   "cell_type": "code",
   "execution_count": 54,
   "metadata": {},
   "outputs": [],
   "source": [
    "pickle_in = open(\"model.pickle\",\"rb\")\n",
    "model_final = pickle.load(pickle_in)\n",
    "pickle_in.close()"
   ]
  },
  {
   "cell_type": "markdown",
   "metadata": {},
   "source": [
    "## Step 2: Feature Engineering for holdout set"
   ]
  },
  {
   "cell_type": "markdown",
   "metadata": {},
   "source": [
    "Remember we have to perform the same transformations on our holdout data (feature engineering, extreme values, and scaling) that we performed on the original data."
   ]
  },
  {
   "cell_type": "code",
   "execution_count": 55,
   "metadata": {},
   "outputs": [],
   "source": [
    "### Change date strings to datetime, drop first two columns because the aren't relevant\n",
    "df['yr_sold'] = pd.to_datetime(df['date'].str.slice(0,8), format='%Y%m%d', errors='ignore').dt.year\n",
    "df.drop(columns=['Unnamed: 0', 'id','date'],axis=1,inplace=True)\n",
    "\n",
    "### Impute Outliers\n",
    "for feat in ['bedrooms', 'bathrooms', 'sqft_living', 'sqft_lot', 'floors',  'sqft_above', 'sqft_basement','sqft_living15', 'sqft_lot15']: \n",
    "    above_6std = df[feat].mean()+(6*df[feat].std())\n",
    "    # if outliers are above 6 standard devs, reduce to 6 standard devs from mean\n",
    "    df[feat] = np.where(df[feat].values >above_6std, df[feat].mean()+6*df[feat].std(), df[feat])"
   ]
  },
  {
   "cell_type": "code",
   "execution_count": 56,
   "metadata": {},
   "outputs": [],
   "source": [
    "# Create dummy variables for zip code \n",
    "zip_dummies = pd.get_dummies(df['zipcode'].astype(str), dtype=int, drop_first=True)\n",
    "df.drop(columns=['zipcode'],inplace=True)\n",
    "new_cols = 'zip'+zip_dummies.columns\n",
    "zip_dummies.columns = new_cols\n",
    "\n",
    "# Create yrs_old feature\n",
    "yrs_old = df['yr_sold']- df['yr_built']\n",
    "\n",
    "# Distance (miles) from each house to Pikes Place Market (essentially downtown seattle)\n",
    "distances=[]\n",
    "for (lat, long) in list(zip(df['lat'],df[\"long\"])):\n",
    "    p1 = Point(f'{lat} {long}')\n",
    "    pikes_place = Point(\"47.6086 -122.3401\")\n",
    "    distances.append(distance.distance(p1,pikes_place).miles)\n",
    "    \n",
    "# add new features to dataframe\n",
    "new_features = pd.DataFrame()\n",
    "new_features['yrs_old'] = yrs_old\n",
    "new_features['miles_from_city'] = distances"
   ]
  },
  {
   "cell_type": "code",
   "execution_count": 57,
   "metadata": {},
   "outputs": [],
   "source": [
    "# top interaction combinations of features, generated from training set\n",
    "top_interactions = [('sqft_living', 'grade'), ('bathrooms', 'grade'), ('sqft_living', 'sqft_above'), ('bathrooms', 'sqft_living'), ('grade', 'sqft_above'), ('bathrooms', 'sqft_above'), ('grade', 'sqft_basement'), ('sqft_above', 'sqft_basement'), ('sqft_living', 'waterfront'), ('sqft_living', 'sqft_living15'), ('sqft_living', 'view'), ('view', 'grade'), ('sqft_living', 'sqft_basement'), ('waterfront', 'sqft_above'), ('sqft_basement', 'sqft_living15'), ('view', 'sqft_above'), ('bathrooms', 'sqft_living15'), ('bedrooms', 'grade'), ('grade', 'sqft_living15'), ('bathrooms', 'waterfront'), ('waterfront', 'sqft_living15'), ('view', 'sqft_living15'), ('bathrooms', 'view'), ('sqft_living', 'lat'), ('grade', 'lat'), ('bathrooms', 'sqft_basement'), ('waterfront', 'grade'), ('bedrooms', 'sqft_living'), ('grade', 'long'), ('bedrooms', 'sqft_above'), ('sqft_above', 'sqft_living15'), ('waterfront', 'lat'), ('sqft_above', 'long'), ('sqft_above', 'lat'), ('waterfront', 'long'), ('bedrooms', 'waterfront'), ('sqft_living', 'long'), ('long', 'sqft_living15'), ('waterfront', 'sqft_basement'), ('bathrooms', 'lat'), ('bedrooms', 'sqft_living15'), ('view', 'lat'), ('condition', 'sqft_living15'), ('yr_built', 'sqft_living15'), ('bedrooms', 'bathrooms'), ('floors', 'sqft_basement'), ('lat', 'sqft_living15'), ('floors', 'long'), ('sqft_living', 'floors'), ('bedrooms', 'view'), ('yr_renovated', 'sqft_living15'), ('floors', 'grade'), ('waterfront', 'yr_built'), ('bathrooms', 'long'), ('bathrooms', 'floors'), ('grade', 'yr_renovated'), ('view', 'sqft_basement'), ('sqft_living', 'yr_renovated'), ('lat', 'long'), ('bedrooms', 'lat')]\n",
    "for (feature1, feature2) in top_interactions:\n",
    "    new_features[feature1+'_X_'+feature2] = df[feature1] * df[feature2] #add to new_features df"
   ]
  },
  {
   "cell_type": "code",
   "execution_count": 58,
   "metadata": {},
   "outputs": [],
   "source": [
    "# generate new features for logs of non-normal features (based on histograms)\n",
    "non_normal = ['bedrooms', 'bathrooms', 'sqft_living', 'sqft_lot', 'floors', 'condition', 'grade', 'sqft_above', 'sqft_basement','sqft_living15', 'sqft_lot15']\n",
    "for feat in non_normal:\n",
    "    new_features['log_'+feat] = df[feat].map(lambda x: np.log(x))\n",
    "new_features = new_features.replace([np.inf, -np.inf], 0)\n",
    "\n",
    "# polynomial features\n",
    "non_normal = ['bedrooms', 'bathrooms', 'sqft_living', 'sqft_lot', 'floors', 'condition', 'grade', 'sqft_above', 'sqft_living15', 'sqft_lot15']\n",
    "for feat in non_normal:\n",
    "    new_features[feat+'^2'] = df[feat]**2\n",
    "    new_features[feat+'^3'] = df[feat]**3"
   ]
  },
  {
   "cell_type": "markdown",
   "metadata": {},
   "source": [
    "## Step 3: Predict the holdout set"
   ]
  },
  {
   "cell_type": "code",
   "execution_count": 59,
   "metadata": {},
   "outputs": [],
   "source": [
    "# Include the features selected through RFE with training set\n",
    "rfe_features = ['bedrooms', 'bathrooms', 'sqft_living', 'floors', 'waterfront', 'view', 'condition', 'grade', 'sqft_above', 'sqft_basement', 'yr_built', 'yr_renovated', 'lat', 'long', 'sqft_living15', 'yr_sold', 'zip98002', 'zip98003', 'zip98004', 'zip98005', 'zip98006', 'zip98007', 'zip98008', 'zip98010', 'zip98011', 'zip98014', 'zip98019', 'zip98022', 'zip98023', 'zip98024', 'zip98027', 'zip98028', 'zip98029', 'zip98030', 'zip98031', 'zip98032', 'zip98033', 'zip98034', 'zip98038', 'zip98039', 'zip98040', 'zip98042', 'zip98045', 'zip98052', 'zip98053', 'zip98055', 'zip98056', 'zip98058', 'zip98059', 'zip98065', 'zip98070', 'zip98072', 'zip98074', 'zip98075', 'zip98077', 'zip98092', 'zip98102', 'zip98103', 'zip98105', 'zip98106', 'zip98107', 'zip98108', 'zip98109', 'zip98112', 'zip98115', 'zip98116', 'zip98117', 'zip98118', 'zip98119', 'zip98122', 'zip98125', 'zip98126', 'zip98133', 'zip98136', 'zip98144', 'zip98146', 'zip98148', 'zip98155', 'zip98166', 'zip98168', 'zip98177', 'zip98178', 'zip98188', 'zip98198', 'zip98199', 'yrs_old', 'miles_from_city', 'sqft_living_X_grade', 'bathrooms_X_grade', 'bathrooms_X_sqft_living', 'grade_X_sqft_above', 'bathrooms_X_sqft_above', 'grade_X_sqft_basement', 'sqft_living_X_waterfront', 'sqft_living_X_view', 'view_X_grade', 'waterfront_X_sqft_above', 'view_X_sqft_above', 'bathrooms_X_sqft_living15', 'bedrooms_X_grade', 'bathrooms_X_waterfront', 'waterfront_X_sqft_living15', 'bathrooms_X_view', 'sqft_living_X_lat', 'grade_X_lat', 'bathrooms_X_sqft_basement', 'waterfront_X_grade', 'grade_X_long', 'waterfront_X_lat', 'sqft_above_X_long', 'sqft_above_X_lat', 'waterfront_X_long', 'bedrooms_X_waterfront', 'sqft_living_X_long', 'long_X_sqft_living15', 'waterfront_X_sqft_basement', 'bathrooms_X_lat', 'view_X_lat', 'condition_X_sqft_living15', 'bedrooms_X_bathrooms', 'lat_X_sqft_living15', 'floors_X_long', 'sqft_living_X_floors', 'bedrooms_X_view', 'floors_X_grade', 'waterfront_X_yr_built', 'bathrooms_X_long', 'bathrooms_X_floors', 'grade_X_yr_renovated', 'view_X_sqft_basement', 'lat_X_long', 'bedrooms_X_lat', 'log_bedrooms', 'log_bathrooms', 'log_sqft_living', 'log_sqft_lot', 'log_floors', 'log_condition', 'log_grade', 'log_sqft_above', 'log_sqft_basement', 'log_sqft_living15', 'log_sqft_lot15', 'bedrooms^2', 'bedrooms^3', 'bathrooms^2', 'bathrooms^3', 'floors^2', 'floors^3', 'condition^2', 'condition^3', 'grade^2', 'grade^3']\n",
    "X = pd.concat([df, zip_dummies,new_features], axis=1)\n",
    "final_predictions = model_final.predict(X[rfe_features])"
   ]
  },
  {
   "cell_type": "markdown",
   "metadata": {},
   "source": [
    "## Step 4: Export your predictions"
   ]
  },
  {
   "cell_type": "code",
   "execution_count": 60,
   "metadata": {},
   "outputs": [],
   "source": [
    "final_answer = pd.DataFrame(final_predictions)\n",
    "final_answer.to_csv('housing_preds_khyatee.csv')"
   ]
  },
  {
   "cell_type": "code",
   "execution_count": null,
   "metadata": {},
   "outputs": [],
   "source": []
  }
 ],
 "metadata": {
  "kernelspec": {
   "display_name": "Python 3",
   "language": "python",
   "name": "python3"
  },
  "language_info": {
   "codemirror_mode": {
    "name": "ipython",
    "version": 3
   },
   "file_extension": ".py",
   "mimetype": "text/x-python",
   "name": "python",
   "nbconvert_exporter": "python",
   "pygments_lexer": "ipython3",
   "version": "3.6.9"
  }
 },
 "nbformat": 4,
 "nbformat_minor": 2
}
